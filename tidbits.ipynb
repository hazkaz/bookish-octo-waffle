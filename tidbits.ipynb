{
 "cells": [
  {
   "cell_type": "markdown",
   "metadata": {},
   "source": [
    "# Global and Nonlocal\n",
    "\n",
    "[python scopes and namespaces](https://docs.python.org/3.3/tutorial/classes.html#python-scopes-and-namespaces)"
   ]
  },
  {
   "cell_type": "code",
   "execution_count": 2,
   "metadata": {},
   "outputs": [
    {
     "name": "stdout",
     "output_type": "stream",
     "text": [
      "cannot access outer_var inside test\n",
      "test2 36\n"
     ]
    }
   ],
   "source": [
    "#cannot access global/nonlocal variable within function\n",
    "outer_var=35\n",
    "def test1():\n",
    "    outer_var+=1\n",
    "    print(\"test1\",outer_var)\n",
    "    \n",
    "def test2():\n",
    "    global outer_var\n",
    "    outer_var+=1\n",
    "    print(\"test2\",outer_var)\n",
    "    \n",
    "try:\n",
    "    test1()\n",
    "except UnboundLocalError:\n",
    "    print(\"cannot access outer_var inside test\")\n",
    "    test2()"
   ]
  },
  {
   "cell_type": "markdown",
   "metadata": {},
   "source": []
  }
 ],
 "metadata": {
  "kernelspec": {
   "display_name": "Python 3",
   "language": "python",
   "name": "python3"
  },
  "language_info": {
   "codemirror_mode": {
    "name": "ipython",
    "version": 3
   },
   "file_extension": ".py",
   "mimetype": "text/x-python",
   "name": "python",
   "nbconvert_exporter": "python",
   "pygments_lexer": "ipython3",
   "version": "3.6.3"
  }
 },
 "nbformat": 4,
 "nbformat_minor": 2
}
