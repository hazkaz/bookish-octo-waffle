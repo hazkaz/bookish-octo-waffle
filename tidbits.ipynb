{
 "cells": [
  {
   "cell_type": "markdown",
   "metadata": {},
   "source": [
    "# Global and Nonlocal\n",
    "\n",
    "[python scopes and namespaces](https://docs.python.org/3.3/tutorial/classes.html#python-scopes-and-namespaces)"
   ]
  },
  {
   "cell_type": "markdown",
   "metadata": {},
   "source": [
    "#cannot access global/nonlocal variable within function\n",
    "outer_var=35\n",
    "def test1():\n",
    "    outer_var+=1\n",
    "    print(\"test1\",outer_var)\n",
    "    \n",
    "def test2():\n",
    "    global outer_var\n",
    "    outer_var+=1\n",
    "    print(\"test2\",outer_var)\n",
    "    \n",
    "try:\n",
    "    test1()\n",
    "except UnboundLocalError:\n",
    "    print(\"cannot access outer_var inside test\")\n",
    "    test2()"
   ]
  },
  {
   "cell_type": "markdown",
   "metadata": {},
   "source": [
    "# python's functional aspects (map,filter, etc.)"
   ]
  },
  {
   "cell_type": "markdown",
   "metadata": {},
   "source": [
    "### Map"
   ]
  },
  {
   "cell_type": "code",
   "execution_count": 1,
   "metadata": {},
   "outputs": [
    {
     "name": "stdout",
     "output_type": "stream",
     "text": [
      "U\n",
      "P\n",
      "P\n",
      "E\n",
      "R\n",
      "C\n",
      "A\n",
      "S\n",
      "E\n",
      "F\n",
      "T\n",
      "W\n",
      "!\n"
     ]
    }
   ],
   "source": [
    "def toUpper(word):\n",
    "    return word.upper()\n",
    "\n",
    "#map returns an iterator :)\n",
    "for i in map(toUpper, \"UppercaseFTW!\"):\n",
    "    print(i)"
   ]
  },
  {
   "cell_type": "markdown",
   "metadata": {},
   "source": [
    "### Filter"
   ]
  },
  {
   "cell_type": "code",
   "execution_count": 5,
   "metadata": {},
   "outputs": [
    {
     "name": "stdout",
     "output_type": "stream",
     "text": [
      "I\n",
      "T\n",
      "U\n",
      "C\n"
     ]
    }
   ],
   "source": [
    "for i in filter(str.isupper, \"Is This UpperCase?\"):\n",
    "    print(i)"
   ]
  }
 ],
 "metadata": {
  "kernelspec": {
   "display_name": "Python 3",
   "language": "python",
   "name": "python3"
  },
  "language_info": {
   "codemirror_mode": {
    "name": "ipython",
    "version": 3
   },
   "file_extension": ".py",
   "mimetype": "text/x-python",
   "name": "python",
   "nbconvert_exporter": "python",
   "pygments_lexer": "ipython3",
   "version": "3.6.3"
  }
 },
 "nbformat": 4,
 "nbformat_minor": 2
}
